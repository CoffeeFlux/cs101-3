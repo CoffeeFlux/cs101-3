{
 "cells": [
  {
   "cell_type": "markdown",
   "metadata": {},
   "source": [
    "# A weird dice example"
   ]
  },
  {
   "cell_type": "markdown",
   "metadata": {},
   "source": [
    "This will be a simple example to give us a feel for how interference or \"negative probabilities\" can make a difference. We will start by considering a pair of dice. Each die can take on the values 1 to 6 with a certain probability. For this example, we're going to look at how the 2 dice behave together. Let's start by writing a function for the probability of seeing the combination $$(i, j)$$ with $$1 \\leq i, j \\leq 6.$$ First we'll import the relevant packages."
   ]
  },
  {
   "cell_type": "code",
   "execution_count": 6,
   "metadata": {},
   "outputs": [],
   "source": [
    "import matplotlib.pyplot as plt\n",
    "import numpy as np"
   ]
  },
  {
   "cell_type": "markdown",
   "metadata": {},
   "source": [
    "Next we'll write the function $diceProb$ which takes a pair $(i, j)$ and returns the probability of seeing that particular combination."
   ]
  },
  {
   "cell_type": "code",
   "execution_count": 5,
   "metadata": {},
   "outputs": [],
   "source": [
    "def diceProb(i, j):\n",
    "    return 1/36"
   ]
  },
  {
   "cell_type": "markdown",
   "metadata": {},
   "source": [
    "When playing games with dice, like say Monopoly, we generally care about the sum of the values of the two dice. Or, rather, we care about the probability of the dice summing to particular values. Let's now write a function to compute this. As we all know, to compute the probability of seeing the sum (or roll) $d$, we need to add up the probabilities of all combinations $(i, j)$ such that $i + j = d$."
   ]
  },
  {
   "cell_type": "code",
   "execution_count": 6,
   "metadata": {},
   "outputs": [],
   "source": [
    "def distProb(d):\n",
    "    prob = 0\n",
    "    for i in range(1, 7):\n",
    "        for j in range(1, 7):\n",
    "            if i + j == d:\n",
    "                prob += diceProb(i, j)\n",
    "    return prob"
   ]
  },
  {
   "cell_type": "markdown",
   "metadata": {},
   "source": [
    "Let's plot the results."
   ]
  },
  {
   "cell_type": "code",
   "execution_count": 7,
   "metadata": {},
   "outputs": [
    {
     "data": {
      "image/png": "[encoded data removed]",
      "text/plain": [
       "<Figure size 432x288 with 1 Axes>"
      ]
     },
     "metadata": {
      "needs_background": "light"
     },
     "output_type": "display_data"
    }
   ],
   "source": [
    "vals = np.array(list(map(distProb, range(2, 13))))\n",
    "vals = vals / sum(abs(vals))\n",
    "y_pos = np.arange(len(vals))\n",
    "\n",
    "plt.bar(y_pos, vals, align='center', alpha=0.5)\n",
    "plt.xticks(y_pos, range(2, len(vals) + 2))\n",
    "plt.ylabel('Probability')\n",
    "plt.title('Probability of rolls')\n",
    "\n",
    "plt.show()"
   ]
  },
  {
   "cell_type": "markdown",
   "metadata": {},
   "source": [
    "As expected, we find that 7 is the most likely roll and as we move away from 7 to either low or high values the probability decreases."
   ]
  },
  {
   "cell_type": "markdown",
   "metadata": {},
   "source": [
    "We're now going to do something apparently crazy. We're going to change $diceProb$ so that if $i > j$ the \"probability\" is $-1/36$, otherwise it will be $1/36$ as before. On its surface this makes no sense. What does it mean to have negative probability? In the context of quantum mechanics we can make sense of this by associating an amplitude to each event, since amplitudes can be both positive and negative numbers. For now, we'll just imagine that the weird dice respect this rule and recompute the probability of seeing a particular distance as before."
   ]
  },
  {
   "cell_type": "code",
   "execution_count": 4,
   "metadata": {},
   "outputs": [],
   "source": [
    "def wDiceProb(i, j):\n",
    "    if i > j:\n",
    "        return -1/36\n",
    "    return 1/36"
   ]
  },
  {
   "cell_type": "markdown",
   "metadata": {},
   "source": [
    "Writing out the distance function and plotting out the results, we get"
   ]
  },
  {
   "cell_type": "code",
   "execution_count": 5,
   "metadata": {},
   "outputs": [
    {
     "data": {
      "image/png": "[encoded data removed]",
      "text/plain": [
       "<Figure size 432x288 with 1 Axes>"
      ]
     },
     "metadata": {
      "needs_background": "light"
     },
     "output_type": "display_data"
    }
   ],
   "source": [
    "def distProb(d):\n",
    "    prob = 0\n",
    "    for i in range(1, 7):\n",
    "        for j in range(1, 7):\n",
    "            if i + j == d:\n",
    "                prob += wDiceProb(i, j)\n",
    "    return prob\n",
    "\n",
    "vals = np.array(list(map(distProb, range(2, 13))))\n",
    "vals = vals / sum(abs(vals))\n",
    "y_pos = np.arange(len(vals))\n",
    "\n",
    "plt.bar(y_pos, vals, align='center', alpha=0.5)\n",
    "plt.xticks(y_pos, range(2, len(vals) + 2))\n",
    "plt.ylabel('Probability')\n",
    "plt.title('Probability of rolls')\n",
    "\n",
    "plt.show()"
   ]
  },
  {
   "cell_type": "markdown",
   "metadata": {},
   "source": [
    "As we can see, the probability distribution has changed. The odd distances never occur now because of cancellation when we compute their probabilities. On the other hand, the even distances occur with equal probability given by $Pr(d/2, d/2)$. This is interference! If we were to be handed this distribution and told that it was the result of rolling a pair of dice, one conclusion we could draw is that the dice have to always be correlated. In other words, the interference of different outcomes has made it so that the dice are now perfectly correlated."
   ]
  },
  {
   "cell_type": "code",
   "execution_count": null,
   "metadata": {},
   "outputs": [],
   "source": []
  }
 ],
 "metadata": {
  "kernelspec": {
   "display_name": "Python 3",
   "language": "python",
   "name": "python3"
  },
  "language_info": {
   "codemirror_mode": {
    "name": "ipython",
    "version": 3
   },
   "file_extension": ".py",
   "mimetype": "text/x-python",
   "name": "python",
   "nbconvert_exporter": "python",
   "pygments_lexer": "ipython3",
   "version": "3.6.9"
  }
 },
 "nbformat": 4,
 "nbformat_minor": 2
}
