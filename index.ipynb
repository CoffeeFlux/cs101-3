{
 "cells": [
  {
   "cell_type": "markdown",
   "metadata": {},
   "source": [
    "## CS 101-3: Quantum algorithms and programming"
   ]
  },
  {
   "cell_type": "markdown",
   "metadata": {},
   "source": [
    "This is the code repository for Caltech's CS 101-3: Quantum algorithms and programming course. This index just links to the jupyter notebooks contained here.\n",
    "\n",
    "* [Weird dice example](https://github.com/agheorghiu/cs101-3/blob/master/Lecture%201/Weird%20dice.ipynb)\n",
    "\n",
    "* [Homework 1](https://github.com/agheorghiu/cs101-3/blob/master/HW1/Homework%201.ipynb)\n",
    "\n",
    "* [Homework 2](https://github.com/agheorghiu/cs101-3/blob/master/HW2/Homework%202.ipynb)"
   ]
  }
 ],
 "metadata": {
  "kernelspec": {
   "display_name": "Python 3",
   "language": "python",
   "name": "python3"
  },
  "language_info": {
   "codemirror_mode": {
    "name": "ipython",
    "version": 3
   },
   "file_extension": ".py",
   "mimetype": "text/x-python",
   "name": "python",
   "nbconvert_exporter": "python",
   "pygments_lexer": "ipython3",
   "version": "3.6.9"
  }
 },
 "nbformat": 4,
 "nbformat_minor": 4
}
